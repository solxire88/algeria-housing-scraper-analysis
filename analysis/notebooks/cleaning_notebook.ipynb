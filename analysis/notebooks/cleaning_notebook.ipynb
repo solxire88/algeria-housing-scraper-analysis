{
 "cells": [
  {
   "cell_type": "code",
   "execution_count": 1,
   "id": "dee1966a-4314-402a-9d3f-d8034213b774",
   "metadata": {},
   "outputs": [],
   "source": [
    "import pandas as pd\n",
    "import numpy as np\n",
    "import csv\n",
    "import re\n",
    "import ast"
   ]
  },
  {
   "cell_type": "code",
   "execution_count": 2,
   "id": "7191cf8a",
   "metadata": {},
   "outputs": [],
   "source": [
    "pd.options.display.max_columns = False\n"
   ]
  },
  {
   "cell_type": "code",
   "execution_count": 3,
   "id": "7538f263",
   "metadata": {},
   "outputs": [],
   "source": [
    "chunk = pd.read_csv('../../data/raw.csv', engine='c',sep=',', encoding='utf-8', on_bad_lines='skip', chunksize=11000)"
   ]
  },
  {
   "cell_type": "code",
   "execution_count": 4,
   "id": "6fe4f284",
   "metadata": {},
   "outputs": [],
   "source": [
    "df = chunk.get_chunk(11000)"
   ]
  },
  {
   "cell_type": "code",
   "execution_count": 5,
   "id": "5b885c6c",
   "metadata": {},
   "outputs": [],
   "source": [
    "selected_cols = ['title', 'createdAt',\n",
    "       'cities', 'price', 'smallDescription', 'store.name',\n",
    "]"
   ]
  },
  {
   "cell_type": "code",
   "execution_count": 6,
   "id": "3357a44b",
   "metadata": {},
   "outputs": [],
   "source": [
    "df = df[selected_cols]"
   ]
  },
  {
   "cell_type": "code",
   "execution_count": 7,
   "id": "3004363c",
   "metadata": {},
   "outputs": [],
   "source": [
    "df['createdAt'] = pd.to_datetime(df['createdAt'])\n",
    "df.price = pd.to_numeric(df.price, downcast='integer')"
   ]
  },
  {
   "cell_type": "code",
   "execution_count": 8,
   "id": "fe8cc07b",
   "metadata": {},
   "outputs": [
    {
     "data": {
      "text/plain": [
       "title                            object\n",
       "createdAt           datetime64[ns, UTC]\n",
       "cities                           object\n",
       "price                           float64\n",
       "smallDescription                 object\n",
       "store.name                       object\n",
       "dtype: object"
      ]
     },
     "execution_count": 8,
     "metadata": {},
     "output_type": "execute_result"
    }
   ],
   "source": [
    "df.dtypes"
   ]
  },
  {
   "cell_type": "code",
   "execution_count": 9,
   "id": "1f9362f4",
   "metadata": {},
   "outputs": [],
   "source": [
    "city = pd.json_normalize(df.cities.apply(ast.literal_eval).explode()).drop(columns=['id', 'slug', '__typename', 'region.id', 'region.slug', 'region.__typename' ]).rename(columns={'name':'Town', 'region.name':'Wilaya'})\n",
    "area = pd.json_normalize(df.smallDescription.apply(ast.literal_eval).explode()).drop(columns= ['__typename']).rename(columns={'valueText': 'Area'})"
   ]
  },
  {
   "cell_type": "code",
   "execution_count": 10,
   "id": "753fd20a-66e9-40bd-90f4-1490b6d1bff2",
   "metadata": {},
   "outputs": [],
   "source": [
    "area.Area = area.Area.astype(str)"
   ]
  },
  {
   "cell_type": "code",
   "execution_count": 11,
   "id": "bc14cf9f",
   "metadata": {},
   "outputs": [],
   "source": [
    "def to_integer(s: str) -> pd.Int64Dtype(): \n",
    "    match = re.search(r'(\\d+)', s or \"\")\n",
    "    return int(match.group(1)) if match else pd.NA\n",
    "\n",
    "area.Area = area.Area.apply(to_integer)"
   ]
  },
  {
   "cell_type": "code",
   "execution_count": 12,
   "id": "36a1255a",
   "metadata": {},
   "outputs": [],
   "source": [
    "df = pd.concat([df, city, area], axis=1)"
   ]
  },
  {
   "cell_type": "code",
   "execution_count": 13,
   "id": "afa73564",
   "metadata": {
    "scrolled": true
   },
   "outputs": [],
   "source": [
    "df = df.drop(columns=['cities', 'smallDescription'])"
   ]
  },
  {
   "cell_type": "code",
   "execution_count": 14,
   "id": "77da6a3d",
   "metadata": {},
   "outputs": [],
   "source": [
    "df = df.rename(columns ={'title': 'Title', 'createdAt': 'Date', 'store.name': 'Store', 'price': 'Price'})"
   ]
  },
  {
   "cell_type": "code",
   "execution_count": 15,
   "id": "e4d965a6-a58f-4ba0-836d-c147e5910acd",
   "metadata": {},
   "outputs": [],
   "source": [
    "df = df.iloc[:11000]"
   ]
  },
  {
   "cell_type": "code",
   "execution_count": 16,
   "id": "51f64c7a-69b9-4f5f-833f-b518899cad4a",
   "metadata": {},
   "outputs": [],
   "source": [
    "df['FlatType'] = df['Title'].str.extract(r'\\b(F\\d+)\\b', expand=False)"
   ]
  },
  {
   "cell_type": "code",
   "execution_count": 17,
   "id": "69199c85",
   "metadata": {},
   "outputs": [
    {
     "name": "stderr",
     "output_type": "stream",
     "text": [
      "/tmp/ipykernel_9097/2649798588.py:1: UserWarning: This pattern is interpreted as a regular expression, and has match groups. To actually get the groups, use str.extract.\n",
      "  mask = df['Title'].str.contains(r'\\b(Location|Vente)\\b', regex=True, na=False, case=False)\n"
     ]
    }
   ],
   "source": [
    "mask = df['Title'].str.contains(r'\\b(Location|Vente)\\b', regex=True, na=False, case=False)"
   ]
  },
  {
   "cell_type": "code",
   "execution_count": 18,
   "id": "577ca645",
   "metadata": {},
   "outputs": [],
   "source": [
    "df = df[~(mask == False)]"
   ]
  },
  {
   "cell_type": "code",
   "execution_count": 19,
   "id": "79add150-eb50-4435-800b-5da7136379d9",
   "metadata": {},
   "outputs": [
    {
     "name": "stderr",
     "output_type": "stream",
     "text": [
      "/tmp/ipykernel_9097/1442584853.py:1: UserWarning: This pattern is interpreted as a regular expression, and has match groups. To actually get the groups, use str.extract.\n",
      "  mask = df['Title'].str.contains(r'\\b(Location)\\b', regex=True, na=False, case=False)\n"
     ]
    }
   ],
   "source": [
    "mask = df['Title'].str.contains(r'\\b(Location)\\b', regex=True, na=False, case=False)"
   ]
  },
  {
   "cell_type": "code",
   "execution_count": 21,
   "id": "8dbdd5d2-a934-44b9-8173-bc95f9d07a77",
   "metadata": {},
   "outputs": [],
   "source": [
    "df[\"isForRent\"] = mask"
   ]
  },
  {
   "cell_type": "code",
   "execution_count": 22,
   "id": "2afad621-9266-4c51-b156-1a6ec2223dc8",
   "metadata": {},
   "outputs": [
    {
     "data": {
      "text/html": [
       "<div>\n",
       "<style scoped>\n",
       "    .dataframe tbody tr th:only-of-type {\n",
       "        vertical-align: middle;\n",
       "    }\n",
       "\n",
       "    .dataframe tbody tr th {\n",
       "        vertical-align: top;\n",
       "    }\n",
       "\n",
       "    .dataframe thead th {\n",
       "        text-align: right;\n",
       "    }\n",
       "</style>\n",
       "<table border=\"1\" class=\"dataframe\">\n",
       "  <thead>\n",
       "    <tr style=\"text-align: right;\">\n",
       "      <th></th>\n",
       "      <th>Title</th>\n",
       "      <th>Date</th>\n",
       "      <th>Price</th>\n",
       "      <th>Store</th>\n",
       "      <th>Town</th>\n",
       "      <th>Wilaya</th>\n",
       "      <th>Area</th>\n",
       "      <th>FlatType</th>\n",
       "      <th>isForRent</th>\n",
       "    </tr>\n",
       "  </thead>\n",
       "  <tbody>\n",
       "    <tr>\n",
       "      <th>0</th>\n",
       "      <td>Vente Appartement F4 Alger Bordj el kiffan</td>\n",
       "      <td>2025-07-22 15:56:01+00:00</td>\n",
       "      <td>15000000.0</td>\n",
       "      <td>Le Roi Immo</td>\n",
       "      <td>Bordj el kiffan</td>\n",
       "      <td>Alger</td>\n",
       "      <td>114</td>\n",
       "      <td>F4</td>\n",
       "      <td>False</td>\n",
       "    </tr>\n",
       "    <tr>\n",
       "      <th>1</th>\n",
       "      <td>Vente Appartement F2 Alger Cheraga</td>\n",
       "      <td>2025-07-22 15:55:36+00:00</td>\n",
       "      <td>NaN</td>\n",
       "      <td>BINAM IMMOBILIER</td>\n",
       "      <td>Cheraga</td>\n",
       "      <td>Alger</td>\n",
       "      <td>53</td>\n",
       "      <td>F2</td>\n",
       "      <td>False</td>\n",
       "    </tr>\n",
       "    <tr>\n",
       "      <th>2</th>\n",
       "      <td>Location Appartement F3 Annaba Annaba</td>\n",
       "      <td>2025-07-22 15:53:18+00:00</td>\n",
       "      <td>50000.0</td>\n",
       "      <td>Agence Immobilière Bône Adresse Annaba</td>\n",
       "      <td>Annaba</td>\n",
       "      <td>Annaba</td>\n",
       "      <td>&lt;NA&gt;</td>\n",
       "      <td>F3</td>\n",
       "      <td>True</td>\n",
       "    </tr>\n",
       "    <tr>\n",
       "      <th>3</th>\n",
       "      <td>Vente Appartement F4 Alger Mohammadia</td>\n",
       "      <td>2025-07-22 15:53:18+00:00</td>\n",
       "      <td>32500.0</td>\n",
       "      <td>Sultan Real Estate</td>\n",
       "      <td>Mohammadia</td>\n",
       "      <td>Alger</td>\n",
       "      <td>112</td>\n",
       "      <td>F4</td>\n",
       "      <td>False</td>\n",
       "    </tr>\n",
       "    <tr>\n",
       "      <th>4</th>\n",
       "      <td>Vente Appartement F3 Alger Bordj el bahri</td>\n",
       "      <td>2025-07-22 15:53:10+00:00</td>\n",
       "      <td>20000000.0</td>\n",
       "      <td>Sultan Real Estate</td>\n",
       "      <td>Bordj el bahri</td>\n",
       "      <td>Alger</td>\n",
       "      <td>90</td>\n",
       "      <td>F3</td>\n",
       "      <td>False</td>\n",
       "    </tr>\n",
       "    <tr>\n",
       "      <th>...</th>\n",
       "      <td>...</td>\n",
       "      <td>...</td>\n",
       "      <td>...</td>\n",
       "      <td>...</td>\n",
       "      <td>...</td>\n",
       "      <td>...</td>\n",
       "      <td>...</td>\n",
       "      <td>...</td>\n",
       "      <td>...</td>\n",
       "    </tr>\n",
       "    <tr>\n",
       "      <th>10995</th>\n",
       "      <td>Vente Appartement F4 Alger Cheraga</td>\n",
       "      <td>2025-07-22 14:46:02+00:00</td>\n",
       "      <td>NaN</td>\n",
       "      <td>BM Promotion</td>\n",
       "      <td>Cheraga</td>\n",
       "      <td>Alger</td>\n",
       "      <td>380</td>\n",
       "      <td>F4</td>\n",
       "      <td>False</td>\n",
       "    </tr>\n",
       "    <tr>\n",
       "      <th>10996</th>\n",
       "      <td>Vente Appartement F4 Alger Cheraga</td>\n",
       "      <td>2025-07-22 14:46:01+00:00</td>\n",
       "      <td>NaN</td>\n",
       "      <td>BM Promotion</td>\n",
       "      <td>Cheraga</td>\n",
       "      <td>Alger</td>\n",
       "      <td>&lt;NA&gt;</td>\n",
       "      <td>F4</td>\n",
       "      <td>False</td>\n",
       "    </tr>\n",
       "    <tr>\n",
       "      <th>10997</th>\n",
       "      <td>Vente Villa Mostaganem Kheireddine</td>\n",
       "      <td>2025-07-22 12:20:12+00:00</td>\n",
       "      <td>NaN</td>\n",
       "      <td>NaN</td>\n",
       "      <td>Kheireddine</td>\n",
       "      <td>Mostaganem</td>\n",
       "      <td>79</td>\n",
       "      <td>NaN</td>\n",
       "      <td>False</td>\n",
       "    </tr>\n",
       "    <tr>\n",
       "      <th>10998</th>\n",
       "      <td>Location vacances Appartement F3 Béjaïa Bejaia</td>\n",
       "      <td>2025-07-22 12:19:50+00:00</td>\n",
       "      <td>4500.0</td>\n",
       "      <td>NaN</td>\n",
       "      <td>Bejaia</td>\n",
       "      <td>Béjaïa</td>\n",
       "      <td>&lt;NA&gt;</td>\n",
       "      <td>F3</td>\n",
       "      <td>True</td>\n",
       "    </tr>\n",
       "    <tr>\n",
       "      <th>10999</th>\n",
       "      <td>Vente Appartement F4 Alger Cheraga</td>\n",
       "      <td>2025-07-22 14:46:01+00:00</td>\n",
       "      <td>NaN</td>\n",
       "      <td>BM Promotion</td>\n",
       "      <td>Cheraga</td>\n",
       "      <td>Alger</td>\n",
       "      <td>60</td>\n",
       "      <td>F4</td>\n",
       "      <td>False</td>\n",
       "    </tr>\n",
       "  </tbody>\n",
       "</table>\n",
       "<p>10987 rows × 9 columns</p>\n",
       "</div>"
      ],
      "text/plain": [
       "                                                Title  ... isForRent\n",
       "0          Vente Appartement F4 Alger Bordj el kiffan  ...     False\n",
       "1                  Vente Appartement F2 Alger Cheraga  ...     False\n",
       "2               Location Appartement F3 Annaba Annaba  ...      True\n",
       "3               Vente Appartement F4 Alger Mohammadia  ...     False\n",
       "4           Vente Appartement F3 Alger Bordj el bahri  ...     False\n",
       "...                                               ...  ...       ...\n",
       "10995              Vente Appartement F4 Alger Cheraga  ...     False\n",
       "10996              Vente Appartement F4 Alger Cheraga  ...     False\n",
       "10997              Vente Villa Mostaganem Kheireddine  ...     False\n",
       "10998  Location vacances Appartement F3 Béjaïa Bejaia  ...      True\n",
       "10999              Vente Appartement F4 Alger Cheraga  ...     False\n",
       "\n",
       "[10987 rows x 9 columns]"
      ]
     },
     "execution_count": 22,
     "metadata": {},
     "output_type": "execute_result"
    }
   ],
   "source": [
    "df"
   ]
  },
  {
   "cell_type": "code",
   "execution_count": 23,
   "id": "bdc31a04-51ac-41bd-a950-283eee40dcdc",
   "metadata": {},
   "outputs": [],
   "source": [
    "df.to_csv(\"../../data/processed_data.csv\", mode ='a', header='header')"
   ]
  },
  {
   "cell_type": "code",
   "execution_count": 24,
   "id": "2eafb324-c72d-429a-81e0-2a41ebed0fd3",
   "metadata": {},
   "outputs": [
    {
     "name": "stdout",
     "output_type": "stream",
     "text": [
      "2025-07-25 14:53:54.837412\n"
     ]
    }
   ],
   "source": [
    "import datetime\n",
    "print(datetime.datetime.now())"
   ]
  },
  {
   "cell_type": "code",
   "execution_count": null,
   "id": "18518ae1-e8a8-45d7-8e9e-db62f4385bee",
   "metadata": {},
   "outputs": [],
   "source": []
  }
 ],
 "metadata": {
  "kernelspec": {
   "display_name": "Python 3 (ipykernel)",
   "language": "python",
   "name": "python3"
  },
  "language_info": {
   "codemirror_mode": {
    "name": "ipython",
    "version": 3
   },
   "file_extension": ".py",
   "mimetype": "text/x-python",
   "name": "python",
   "nbconvert_exporter": "python",
   "pygments_lexer": "ipython3",
   "version": "3.10.12"
  }
 },
 "nbformat": 4,
 "nbformat_minor": 5
}
