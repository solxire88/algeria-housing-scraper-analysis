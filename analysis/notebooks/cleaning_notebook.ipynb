{
 "cells": [
  {
   "cell_type": "code",
   "execution_count": null,
   "id": "dee1966a-4314-402a-9d3f-d8034213b774",
   "metadata": {},
   "outputs": [],
   "source": [
    "import pandas as pd\n",
    "import numpy as np\n",
    "import csv\n",
    "import re\n",
    "import ast"
   ]
  },
  {
   "cell_type": "code",
   "execution_count": 116,
   "id": "7191cf8a",
   "metadata": {},
   "outputs": [],
   "source": [
    "pd.options.display.max_columns = False\n"
   ]
  },
  {
   "cell_type": "code",
   "execution_count": 117,
   "id": "7538f263",
   "metadata": {},
   "outputs": [],
   "source": [
    "chunk = pd.read_csv('../../data/raw.csv', engine='c',sep=',', encoding='utf-8', on_bad_lines='skip', chunksize=11000)"
   ]
  },
  {
   "cell_type": "code",
   "execution_count": 118,
   "id": "6fe4f284",
   "metadata": {},
   "outputs": [],
   "source": [
    "df = chunk.get_chunk(11000)"
   ]
  },
  {
   "cell_type": "code",
   "execution_count": 119,
   "id": "5b885c6c",
   "metadata": {},
   "outputs": [],
   "source": [
    "selected_cols = ['title', 'createdAt',\n",
    "       'cities', 'price', 'smallDescription', 'store.name',\n",
    "]"
   ]
  },
  {
   "cell_type": "code",
   "execution_count": 120,
   "id": "3357a44b",
   "metadata": {},
   "outputs": [],
   "source": [
    "df = df[selected_cols]"
   ]
  },
  {
   "cell_type": "code",
   "execution_count": 121,
   "id": "3004363c",
   "metadata": {},
   "outputs": [],
   "source": [
    "df['createdAt'] = pd.to_datetime(df['createdAt'])\n",
    "df.price = pd.to_numeric(df.price, downcast='integer')"
   ]
  },
  {
   "cell_type": "code",
   "execution_count": 122,
   "id": "fe8cc07b",
   "metadata": {},
   "outputs": [
    {
     "data": {
      "text/plain": [
       "title                            object\n",
       "createdAt           datetime64[ns, UTC]\n",
       "cities                           object\n",
       "price                           float64\n",
       "smallDescription                 object\n",
       "store.name                       object\n",
       "dtype: object"
      ]
     },
     "execution_count": 122,
     "metadata": {},
     "output_type": "execute_result"
    }
   ],
   "source": [
    "df.dtypes"
   ]
  },
  {
   "cell_type": "code",
   "execution_count": 123,
   "id": "1f9362f4",
   "metadata": {},
   "outputs": [],
   "source": [
    "city = pd.json_normalize(df.cities.apply(ast.literal_eval).explode()).drop(columns=['id', 'slug', '__typename', 'region.id', 'region.slug', 'region.__typename' ]).rename(columns={'name':'Town', 'region.name':'Wilaya'})\n",
    "area = pd.json_normalize(df.smallDescription.apply(ast.literal_eval).explode()).drop(columns= ['__typename']).rename(columns={'valueText': 'Area'})"
   ]
  },
  {
   "cell_type": "code",
   "execution_count": 124,
   "id": "753fd20a-66e9-40bd-90f4-1490b6d1bff2",
   "metadata": {},
   "outputs": [],
   "source": [
    "area.Area = area.Area.astype(str)"
   ]
  },
  {
   "cell_type": "code",
   "execution_count": 125,
   "id": "bc14cf9f",
   "metadata": {},
   "outputs": [],
   "source": [
    "def to_integer(s: str) -> pd.Int64Dtype(): \n",
    "    match = re.search(r'(\\d+)', s or \"\")\n",
    "    return int(match.group(1)) if match else pd.NA\n",
    "\n",
    "area.Area = area.Area.apply(to_integer)"
   ]
  },
  {
   "cell_type": "code",
   "execution_count": 126,
   "id": "36a1255a",
   "metadata": {},
   "outputs": [],
   "source": [
    "df = pd.concat([df, city, area], axis=1)"
   ]
  },
  {
   "cell_type": "code",
   "execution_count": 127,
   "id": "afa73564",
   "metadata": {
    "scrolled": true
   },
   "outputs": [],
   "source": [
    "df = df.drop(columns=['cities', 'smallDescription'])"
   ]
  },
  {
   "cell_type": "code",
   "execution_count": 128,
   "id": "77da6a3d",
   "metadata": {},
   "outputs": [],
   "source": [
    "df = df.rename(columns ={'title': 'Title', 'createdAt': 'Date', 'store.name': 'Store', 'price': 'Price'})"
   ]
  },
  {
   "cell_type": "code",
   "execution_count": 129,
   "id": "e4d965a6-a58f-4ba0-836d-c147e5910acd",
   "metadata": {},
   "outputs": [],
   "source": [
    "df = df.iloc[:11000]"
   ]
  },
  {
   "cell_type": "code",
   "execution_count": 130,
   "id": "51f64c7a-69b9-4f5f-833f-b518899cad4a",
   "metadata": {},
   "outputs": [],
   "source": [
    "df['FlatType'] = df['Title'].str.extract(r'\\b(F\\d+)\\b', expand=False)"
   ]
  },
  {
   "cell_type": "code",
   "execution_count": 131,
   "id": "69199c85",
   "metadata": {},
   "outputs": [
    {
     "name": "stderr",
     "output_type": "stream",
     "text": [
      "/tmp/ipykernel_8203/2649798588.py:1: UserWarning: This pattern is interpreted as a regular expression, and has match groups. To actually get the groups, use str.extract.\n",
      "  mask = df['Title'].str.contains(r'\\b(Location|Vente)\\b', regex=True, na=False, case=False)\n"
     ]
    }
   ],
   "source": [
    "mask = df['Title'].str.contains(r'\\b(Location|Vente)\\b', regex=True, na=False, case=False)"
   ]
  },
  {
   "cell_type": "code",
   "execution_count": 132,
   "id": "577ca645",
   "metadata": {},
   "outputs": [],
   "source": [
    "df = df[~(mask == False)]"
   ]
  },
  {
   "cell_type": "code",
   "execution_count": 133,
   "id": "79add150-eb50-4435-800b-5da7136379d9",
   "metadata": {},
   "outputs": [
    {
     "name": "stderr",
     "output_type": "stream",
     "text": [
      "/tmp/ipykernel_8203/1442584853.py:1: UserWarning: This pattern is interpreted as a regular expression, and has match groups. To actually get the groups, use str.extract.\n",
      "  mask = df['Title'].str.contains(r'\\b(Location)\\b', regex=True, na=False, case=False)\n"
     ]
    }
   ],
   "source": [
    "mask = df['Title'].str.contains(r'\\b(Location)\\b', regex=True, na=False, case=False)"
   ]
  },
  {
   "cell_type": "code",
   "execution_count": 134,
   "id": "8dbdd5d2-a934-44b9-8173-bc95f9d07a77",
   "metadata": {},
   "outputs": [],
   "source": [
    "df_location = df[mask]\n",
    "df_vente = df[~mask]"
   ]
  },
  {
   "cell_type": "code",
   "execution_count": 135,
   "id": "2afad621-9266-4c51-b156-1a6ec2223dc8",
   "metadata": {},
   "outputs": [],
   "source": [
    "df_location.to_csv('../../data/processed_renting.csv', index=False)\n",
    "df_vente.to_csv('../../data/processed_selling.csv', index=False)"
   ]
  },
  {
   "cell_type": "code",
   "execution_count": null,
   "id": "750e37e7-5b43-4955-a7d7-93f195dc73b7",
   "metadata": {},
   "outputs": [],
   "source": []
  },
  {
   "cell_type": "code",
   "execution_count": null,
   "id": "69263513-8dd7-4236-8e88-b24eff670402",
   "metadata": {},
   "outputs": [],
   "source": []
  }
 ],
 "metadata": {
  "kernelspec": {
   "display_name": "Python 3 (ipykernel)",
   "language": "python",
   "name": "python3"
  },
  "language_info": {
   "codemirror_mode": {
    "name": "ipython",
    "version": 3
   },
   "file_extension": ".py",
   "mimetype": "text/x-python",
   "name": "python",
   "nbconvert_exporter": "python",
   "pygments_lexer": "ipython3",
   "version": "3.10.12"
  }
 },
 "nbformat": 4,
 "nbformat_minor": 5
}
